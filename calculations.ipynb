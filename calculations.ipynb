{
  "nbformat": 4,
  "nbformat_minor": 0,
  "metadata": {
    "colab": {
      "name": "calculations.ipynb",
      "provenance": [],
      "authorship_tag": "ABX9TyPflxHqDuUNDLT0dKIVVHQX",
      "include_colab_link": true
    },
    "kernelspec": {
      "name": "python3",
      "display_name": "Python 3"
    },
    "language_info": {
      "name": "python"
    }
  },
  "cells": [
    {
      "cell_type": "markdown",
      "metadata": {
        "id": "view-in-github",
        "colab_type": "text"
      },
      "source": [
        "<a href=\"https://colab.research.google.com/github/PaulinaJohn/Calculations_in_Python/blob/main/calculations.ipynb\" target=\"_parent\"><img src=\"https://colab.research.google.com/assets/colab-badge.svg\" alt=\"Open In Colab\"/></a>"
      ]
    },
    {
      "cell_type": "code",
      "execution_count": null,
      "metadata": {
        "colab": {
          "base_uri": "https://localhost:8080/"
        },
        "id": "pLL9hg0x_M8w",
        "outputId": "5363ef89-26ff-4774-b252-a868b505431d"
      },
      "outputs": [
        {
          "output_type": "stream",
          "name": "stdout",
          "text": [
            "9.555555555555555\n",
            "<class 'list'>\n",
            "15\n"
          ]
        }
      ],
      "source": [
        "import numpy as np\n",
        "data = [5, 8, 15, 7, 10, 22, 3, 1, 15]\n",
        "\n",
        "print(np.mean(data))\n",
        "print(type(data))\n",
        "\n",
        "from statistics import mode\n",
        "print(mode(data))"
      ]
    },
    {
      "cell_type": "code",
      "source": [
        "np.sort(data)\n",
        "print(np.median(data))\n"
      ],
      "metadata": {
        "colab": {
          "base_uri": "https://localhost:8080/"
        },
        "id": "4GqVxiKACJXe",
        "outputId": "f90218a2-3c3d-4715-8640-d61858a8ba9a"
      },
      "execution_count": null,
      "outputs": [
        {
          "output_type": "stream",
          "name": "stdout",
          "text": [
            "8.0\n"
          ]
        }
      ]
    },
    {
      "cell_type": "code",
      "source": [
        "data_2 = [5, 8, 15, 7, 10, 22, 3, 1, 15, 2]\n",
        "print(np.median(data_2))\n",
        "print(type(data))\n"
      ],
      "metadata": {
        "colab": {
          "base_uri": "https://localhost:8080/"
        },
        "id": "GMoMZ_PlC-cp",
        "outputId": "3272cb85-96e1-4877-8a57-ba615b31509d"
      },
      "execution_count": null,
      "outputs": [
        {
          "output_type": "stream",
          "name": "stdout",
          "text": [
            "7.5\n",
            "<class 'list'>\n"
          ]
        }
      ]
    },
    {
      "cell_type": "code",
      "source": [
        "#Mode\n",
        "from collections import Counter\n",
        "data_3 = [1, 1, 2, 2, 3, 3, 4, 4]\n",
        "print(Counter(data_3).most_common())\n"
      ],
      "metadata": {
        "colab": {
          "base_uri": "https://localhost:8080/"
        },
        "id": "xYYU26RCDpwl",
        "outputId": "621569e1-9665-41a7-d6eb-95f8a63d2578"
      },
      "execution_count": null,
      "outputs": [
        {
          "output_type": "stream",
          "name": "stdout",
          "text": [
            "[(1, 2), (2, 2), (3, 2), (4, 2)]\n"
          ]
        }
      ]
    },
    {
      "cell_type": "code",
      "source": [
        "data_4 = [1, 2, 3, 3, 3, 4, 5, 6, 6, 6, 7, 8, 9]\n",
        "print(Counter(data_4).most_common())\n"
      ],
      "metadata": {
        "colab": {
          "base_uri": "https://localhost:8080/"
        },
        "id": "QGATT4QTHMnw",
        "outputId": "77b77b08-6569-469f-da26-32a75c370165"
      },
      "execution_count": null,
      "outputs": [
        {
          "output_type": "stream",
          "name": "stdout",
          "text": [
            "[(3, 3), (6, 3), (1, 1), (2, 1), (4, 1), (5, 1), (7, 1), (8, 1), (9, 1)]\n"
          ]
        }
      ]
    },
    {
      "cell_type": "code",
      "source": [
        "friends_dogs= [1, 1, 2, 3, 8]\n",
        "print(np.mean(friends_dogs))\n",
        "print(np.median(friends_dogs))\n",
        "\n",
        "from statistics import mode\n",
        "print(mode(friends_dogs))\n",
        "\n",
        "import statistics\n"
      ],
      "metadata": {
        "colab": {
          "base_uri": "https://localhost:8080/",
          "height": 235
        },
        "id": "DzQlhIsQILnM",
        "outputId": "dd81efc1-41c8-4c9a-e638-4f109f7dac49"
      },
      "execution_count": null,
      "outputs": [
        {
          "output_type": "error",
          "ename": "NameError",
          "evalue": "ignored",
          "traceback": [
            "\u001b[0;31m---------------------------------------------------------------------------\u001b[0m",
            "\u001b[0;31mNameError\u001b[0m                                 Traceback (most recent call last)",
            "\u001b[0;32m<ipython-input-1-a4874b825280>\u001b[0m in \u001b[0;36m<module>\u001b[0;34m()\u001b[0m\n\u001b[1;32m      1\u001b[0m \u001b[0mfriends_dogs\u001b[0m\u001b[0;34m=\u001b[0m \u001b[0;34m[\u001b[0m\u001b[0;36m1\u001b[0m\u001b[0;34m,\u001b[0m \u001b[0;36m1\u001b[0m\u001b[0;34m,\u001b[0m \u001b[0;36m2\u001b[0m\u001b[0;34m,\u001b[0m \u001b[0;36m3\u001b[0m\u001b[0;34m,\u001b[0m \u001b[0;36m8\u001b[0m\u001b[0;34m]\u001b[0m\u001b[0;34m\u001b[0m\u001b[0;34m\u001b[0m\u001b[0m\n\u001b[0;32m----> 2\u001b[0;31m \u001b[0mprint\u001b[0m\u001b[0;34m(\u001b[0m\u001b[0mnp\u001b[0m\u001b[0;34m.\u001b[0m\u001b[0mmean\u001b[0m\u001b[0;34m(\u001b[0m\u001b[0mfriends_dogs\u001b[0m\u001b[0;34m)\u001b[0m\u001b[0;34m)\u001b[0m\u001b[0;34m\u001b[0m\u001b[0;34m\u001b[0m\u001b[0m\n\u001b[0m\u001b[1;32m      3\u001b[0m \u001b[0mprint\u001b[0m\u001b[0;34m(\u001b[0m\u001b[0mnp\u001b[0m\u001b[0;34m.\u001b[0m\u001b[0mmedian\u001b[0m\u001b[0;34m(\u001b[0m\u001b[0mfriends_dogs\u001b[0m\u001b[0;34m)\u001b[0m\u001b[0;34m)\u001b[0m\u001b[0;34m\u001b[0m\u001b[0;34m\u001b[0m\u001b[0m\n\u001b[1;32m      4\u001b[0m \u001b[0;34m\u001b[0m\u001b[0m\n\u001b[1;32m      5\u001b[0m \u001b[0;32mfrom\u001b[0m \u001b[0mstatistics\u001b[0m \u001b[0;32mimport\u001b[0m \u001b[0mmode\u001b[0m\u001b[0;34m\u001b[0m\u001b[0;34m\u001b[0m\u001b[0m\n",
            "\u001b[0;31mNameError\u001b[0m: name 'np' is not defined"
          ]
        }
      ]
    },
    {
      "cell_type": "code",
      "source": [
        "data_5 = [8, 12, 32, 10, 3, 4, 4, 4, 4, 5, 12, 20]\n",
        "print(np.mean(data_5))\n",
        "print(np.median(data_5))\n",
        "print(mode(data_5))"
      ],
      "metadata": {
        "colab": {
          "base_uri": "https://localhost:8080/"
        },
        "id": "UqGJr-qpKrW-",
        "outputId": "c8a3aaf6-86d7-4efd-8a4f-bbd196261d55"
      },
      "execution_count": null,
      "outputs": [
        {
          "output_type": "stream",
          "name": "stdout",
          "text": [
            "9.833333333333334\n",
            "6.5\n",
            "4\n"
          ]
        }
      ]
    },
    {
      "cell_type": "code",
      "source": [
        "data_6 = [5, 8, 15, 7, 10, 22, 3, 1, 15, 10]\n",
        "print(np.mean(data_6))\n",
        "print(np.median(data_6))\n",
        "print(Counter(data_6))"
      ],
      "metadata": {
        "colab": {
          "base_uri": "https://localhost:8080/"
        },
        "id": "n9oNXBSBL2C8",
        "outputId": "608f1839-42d6-4698-b59a-300fb7f64e72"
      },
      "execution_count": null,
      "outputs": [
        {
          "output_type": "stream",
          "name": "stdout",
          "text": [
            "9.6\n",
            "9.0\n",
            "Counter({15: 2, 10: 2, 5: 1, 8: 1, 7: 1, 22: 1, 3: 1, 1: 1})\n"
          ]
        }
      ]
    },
    {
      "cell_type": "code",
      "source": [
        "data_7 = [5, 15, 3, 3, 8, 10, 12]\n",
        "print(np.sum(data_7))\n",
        "\n",
        "sum(data_7[1:])\n",
        "print(sum(data_7[2:6])/(7-1))\n"
      ],
      "metadata": {
        "colab": {
          "base_uri": "https://localhost:8080/"
        },
        "id": "_l6O1CugfqUc",
        "outputId": "29af4a77-fbfb-4541-efab-ba188e7998f3"
      },
      "execution_count": null,
      "outputs": [
        {
          "output_type": "stream",
          "name": "stdout",
          "text": [
            "56\n",
            "4.0\n"
          ]
        }
      ]
    },
    {
      "cell_type": "code",
      "source": [
        "import numpy as np\n",
        "nums = [1, 5, 10, 3, 8, 12, 4, 1, 2, 8]\n",
        "print(np.sort(nums))\n",
        "print(np.median(nums))\n"
      ],
      "metadata": {
        "colab": {
          "base_uri": "https://localhost:8080/"
        },
        "id": "hQJJapcc3VjP",
        "outputId": "8b807d52-3a5b-4ae9-829c-9af7d9a5b35e"
      },
      "execution_count": null,
      "outputs": [
        {
          "output_type": "stream",
          "name": "stdout",
          "text": [
            "[ 1  1  2  3  4  5  8  8 10 12]\n",
            "4.5\n"
          ]
        }
      ]
    },
    {
      "cell_type": "code",
      "source": [
        "num_s = [5, 10, 3, 8, 12, 4, 1, 2, 8]\n",
        "print(np.sort(num_s))\n",
        "print(np.median(num_s))"
      ],
      "metadata": {
        "colab": {
          "base_uri": "https://localhost:8080/"
        },
        "id": "fFJgYNXh6ykF",
        "outputId": "f605ef46-cc5b-43f4-a022-87b9c70667e1"
      },
      "execution_count": null,
      "outputs": [
        {
          "output_type": "stream",
          "name": "stdout",
          "text": [
            "[ 1  2  3  4  5  8  8 10 12]\n",
            "5.0\n"
          ]
        }
      ]
    },
    {
      "cell_type": "code",
      "source": [
        "numz = [1, 5, 10, 3, 8, 12, 4]\n",
        "print(np.var(numz))\n",
        "print(np.std(numz))"
      ],
      "metadata": {
        "colab": {
          "base_uri": "https://localhost:8080/"
        },
        "id": "LdSFoYTIBUCV",
        "outputId": "07f653d5-ffa6-47c0-dc13-6d0959624fa0"
      },
      "execution_count": null,
      "outputs": [
        {
          "output_type": "stream",
          "name": "stdout",
          "text": [
            "13.551020408163266\n",
            "3.6811710647786073\n"
          ]
        }
      ]
    },
    {
      "cell_type": "code",
      "source": [
        "import numpy as np\n",
        "inv_returns = [12, -2,\t10,\t0, 7,\t3]\n",
        "print(np.std(inv_returns))\n",
        "\n",
        "inv_returns_2 = [5, 5, 5, 5, 5, 5]\n",
        "print(np.std(inv_returns_2))"
      ],
      "metadata": {
        "id": "YqlQFYuQVb1w",
        "colab": {
          "base_uri": "https://localhost:8080/"
        },
        "outputId": "c1b42f7e-b6ab-4e7c-bf1e-09415bafafd4"
      },
      "execution_count": null,
      "outputs": [
        {
          "output_type": "stream",
          "name": "stdout",
          "text": [
            "5.0990195135927845\n",
            "0.0\n"
          ]
        }
      ]
    },
    {
      "cell_type": "code",
      "source": [
        "more_data = [15, 4, 3, 8, 15, 22, 7, 9, 2, 3, 3, 12, 6]\n",
        "print(np.sort(more_data))\n",
        "print(np.median(more_data))\n",
        "print(np.mean(more_data))\n",
        "\n",
        "from statistics import mode\n",
        "\n",
        "print(mode(more_data))\n"
      ],
      "metadata": {
        "colab": {
          "base_uri": "https://localhost:8080/"
        },
        "id": "APUqvzz9YDUr",
        "outputId": "cd6c8526-431d-4353-d75a-6e21dc37883a"
      },
      "execution_count": null,
      "outputs": [
        {
          "output_type": "stream",
          "name": "stdout",
          "text": [
            "[ 2  3  3  3  4  6  7  8  9 12 15 15 22]\n",
            "7.0\n",
            "8.384615384615385\n",
            "3\n"
          ]
        }
      ]
    },
    {
      "cell_type": "code",
      "source": [
        "more_data2 = [15, 4, 3, 8, 15, 22, 7, 9, 2, 3, 3, 12, 6]\n",
        "print(np.min(more_data2))\n",
        "print(np.max(more_data2))\n",
        "print(np.std(more_data2))\n",
        "print(np.var(more_data2))"
      ],
      "metadata": {
        "colab": {
          "base_uri": "https://localhost:8080/"
        },
        "id": "L_y-wSLwaHI8",
        "outputId": "8ec5e3fb-32be-41e2-e806-4009d850e10b"
      },
      "execution_count": null,
      "outputs": [
        {
          "output_type": "stream",
          "name": "stdout",
          "text": [
            "2\n",
            "22\n",
            "5.824860005428477\n",
            "33.92899408284024\n"
          ]
        }
      ]
    },
    {
      "cell_type": "code",
      "source": [
        ""
      ],
      "metadata": {
        "id": "H-RAfgWy-gJX"
      },
      "execution_count": null,
      "outputs": []
    },
    {
      "cell_type": "code",
      "execution_count": null,
      "metadata": {
        "id": "MNpNqgVFGWsG",
        "colab": {
          "base_uri": "https://localhost:8080/",
          "height": 956
        },
        "outputId": "fe23d53d-b213-4f45-a242-e3ad9a79408d"
      },
      "outputs": [
        {
          "output_type": "stream",
          "name": "stdout",
          "text": [
            "Collecting feature_engine\n",
            "  Downloading feature_engine-1.2.0-py2.py3-none-any.whl (205 kB)\n",
            "\u001b[?25l\r\u001b[K     |█▋                              | 10 kB 26.5 MB/s eta 0:00:01\r\u001b[K     |███▏                            | 20 kB 33.3 MB/s eta 0:00:01\r\u001b[K     |████▉                           | 30 kB 34.9 MB/s eta 0:00:01\r\u001b[K     |██████▍                         | 40 kB 22.4 MB/s eta 0:00:01\r\u001b[K     |████████                        | 51 kB 14.2 MB/s eta 0:00:01\r\u001b[K     |█████████▋                      | 61 kB 15.6 MB/s eta 0:00:01\r\u001b[K     |███████████▏                    | 71 kB 14.0 MB/s eta 0:00:01\r\u001b[K     |████████████▊                   | 81 kB 15.5 MB/s eta 0:00:01\r\u001b[K     |██████████████▍                 | 92 kB 11.4 MB/s eta 0:00:01\r\u001b[K     |████████████████                | 102 kB 12.2 MB/s eta 0:00:01\r\u001b[K     |█████████████████▋              | 112 kB 12.2 MB/s eta 0:00:01\r\u001b[K     |███████████████████▏            | 122 kB 12.2 MB/s eta 0:00:01\r\u001b[K     |████████████████████▊           | 133 kB 12.2 MB/s eta 0:00:01\r\u001b[K     |██████████████████████▍         | 143 kB 12.2 MB/s eta 0:00:01\r\u001b[K     |████████████████████████        | 153 kB 12.2 MB/s eta 0:00:01\r\u001b[K     |█████████████████████████▌      | 163 kB 12.2 MB/s eta 0:00:01\r\u001b[K     |███████████████████████████▏    | 174 kB 12.2 MB/s eta 0:00:01\r\u001b[K     |████████████████████████████▊   | 184 kB 12.2 MB/s eta 0:00:01\r\u001b[K     |██████████████████████████████▍ | 194 kB 12.2 MB/s eta 0:00:01\r\u001b[K     |████████████████████████████████| 204 kB 12.2 MB/s eta 0:00:01\r\u001b[K     |████████████████████████████████| 205 kB 12.2 MB/s \n",
            "\u001b[?25hRequirement already satisfied: scipy>=1.4.1 in /usr/local/lib/python3.7/dist-packages (from feature_engine) (1.4.1)\n",
            "Requirement already satisfied: pandas>=1.0.3 in /usr/local/lib/python3.7/dist-packages (from feature_engine) (1.3.5)\n",
            "Requirement already satisfied: numpy>=1.18.2 in /usr/local/lib/python3.7/dist-packages (from feature_engine) (1.19.5)\n",
            "Collecting statsmodels>=0.11.1\n",
            "  Downloading statsmodels-0.13.1-cp37-cp37m-manylinux_2_17_x86_64.manylinux2014_x86_64.whl (9.8 MB)\n",
            "\u001b[K     |████████████████████████████████| 9.8 MB 75.9 MB/s \n",
            "\u001b[?25hRequirement already satisfied: scikit-learn>=0.22.2 in /usr/local/lib/python3.7/dist-packages (from feature_engine) (1.0.2)\n",
            "Requirement already satisfied: python-dateutil>=2.7.3 in /usr/local/lib/python3.7/dist-packages (from pandas>=1.0.3->feature_engine) (2.8.2)\n",
            "Requirement already satisfied: pytz>=2017.3 in /usr/local/lib/python3.7/dist-packages (from pandas>=1.0.3->feature_engine) (2018.9)\n",
            "Requirement already satisfied: six>=1.5 in /usr/local/lib/python3.7/dist-packages (from python-dateutil>=2.7.3->pandas>=1.0.3->feature_engine) (1.15.0)\n",
            "Requirement already satisfied: threadpoolctl>=2.0.0 in /usr/local/lib/python3.7/dist-packages (from scikit-learn>=0.22.2->feature_engine) (3.0.0)\n",
            "Requirement already satisfied: joblib>=0.11 in /usr/local/lib/python3.7/dist-packages (from scikit-learn>=0.22.2->feature_engine) (1.1.0)\n",
            "Requirement already satisfied: patsy>=0.5.2 in /usr/local/lib/python3.7/dist-packages (from statsmodels>=0.11.1->feature_engine) (0.5.2)\n",
            "Installing collected packages: statsmodels, feature-engine\n",
            "  Attempting uninstall: statsmodels\n",
            "    Found existing installation: statsmodels 0.10.2\n",
            "    Uninstalling statsmodels-0.10.2:\n",
            "      Successfully uninstalled statsmodels-0.10.2\n",
            "Successfully installed feature-engine-1.2.0 statsmodels-0.13.1\n"
          ]
        },
        {
          "output_type": "display_data",
          "data": {
            "application/vnd.colab-display-data+json": {
              "pip_warning": {
                "packages": [
                  "statsmodels"
                ]
              }
            }
          },
          "metadata": {}
        },
        {
          "output_type": "stream",
          "name": "stdout",
          "text": [
            "Collecting scikit_posthocs\n",
            "  Downloading scikit-posthocs-0.6.7.tar.gz (43 kB)\n",
            "\u001b[?25l\r\u001b[K     |███████▋                        | 10 kB 20.1 MB/s eta 0:00:01\r\u001b[K     |███████████████▏                | 20 kB 27.9 MB/s eta 0:00:01\r\u001b[K     |██████████████████████▊         | 30 kB 27.4 MB/s eta 0:00:01\r\u001b[K     |██████████████████████████████▎ | 40 kB 21.1 MB/s eta 0:00:01\r\u001b[K     |████████████████████████████████| 43 kB 1.0 MB/s \n",
            "\u001b[?25h  Installing build dependencies ... \u001b[?25l\u001b[?25hdone\n",
            "  Getting requirements to build wheel ... \u001b[?25l\u001b[?25hdone\n",
            "    Preparing wheel metadata ... \u001b[?25l\u001b[?25hdone\n",
            "Requirement already satisfied: numpy in /usr/local/lib/python3.7/dist-packages (from scikit_posthocs) (1.19.5)\n",
            "Requirement already satisfied: statsmodels in /usr/local/lib/python3.7/dist-packages (from scikit_posthocs) (0.13.1)\n",
            "Requirement already satisfied: matplotlib in /usr/local/lib/python3.7/dist-packages (from scikit_posthocs) (3.2.2)\n",
            "Requirement already satisfied: pandas>=0.20.0 in /usr/local/lib/python3.7/dist-packages (from scikit_posthocs) (1.3.5)\n",
            "Requirement already satisfied: scipy in /usr/local/lib/python3.7/dist-packages (from scikit_posthocs) (1.4.1)\n",
            "Requirement already satisfied: seaborn in /usr/local/lib/python3.7/dist-packages (from scikit_posthocs) (0.11.2)\n",
            "Requirement already satisfied: python-dateutil>=2.7.3 in /usr/local/lib/python3.7/dist-packages (from pandas>=0.20.0->scikit_posthocs) (2.8.2)\n",
            "Requirement already satisfied: pytz>=2017.3 in /usr/local/lib/python3.7/dist-packages (from pandas>=0.20.0->scikit_posthocs) (2018.9)\n",
            "Requirement already satisfied: six>=1.5 in /usr/local/lib/python3.7/dist-packages (from python-dateutil>=2.7.3->pandas>=0.20.0->scikit_posthocs) (1.15.0)\n",
            "Requirement already satisfied: pyparsing!=2.0.4,!=2.1.2,!=2.1.6,>=2.0.1 in /usr/local/lib/python3.7/dist-packages (from matplotlib->scikit_posthocs) (3.0.7)\n",
            "Requirement already satisfied: kiwisolver>=1.0.1 in /usr/local/lib/python3.7/dist-packages (from matplotlib->scikit_posthocs) (1.3.2)\n",
            "Requirement already satisfied: cycler>=0.10 in /usr/local/lib/python3.7/dist-packages (from matplotlib->scikit_posthocs) (0.11.0)\n",
            "Requirement already satisfied: patsy>=0.5.2 in /usr/local/lib/python3.7/dist-packages (from statsmodels->scikit_posthocs) (0.5.2)\n",
            "Building wheels for collected packages: scikit-posthocs\n",
            "  Building wheel for scikit-posthocs (PEP 517) ... \u001b[?25l\u001b[?25hdone\n",
            "  Created wheel for scikit-posthocs: filename=scikit_posthocs-0.6.7-py3-none-any.whl size=37903 sha256=f2eb08bc6c9ed2a3d0b8f6b9549d17e7316a2a416518de51e478b168068e72cf\n",
            "  Stored in directory: /root/.cache/pip/wheels/b8/21/e6/f39794d4a6ee3d3cc5146ca80b5cd949452ad4a8fde9f6b9fc\n",
            "Successfully built scikit-posthocs\n",
            "Installing collected packages: scikit-posthocs\n",
            "Successfully installed scikit-posthocs-0.6.7\n"
          ]
        }
      ],
      "source": [
        "from google.colab import data_table\n",
        "data_table.enable_dataframe_formatter()\n",
        "import pandas as pd\n",
        "import numpy as np\n",
        "import seaborn as sns\n",
        "import matplotlib.pyplot as plt\n",
        "from scipy import stats\n",
        "from scipy.stats import kruskal\n",
        "from scipy.stats import spearmanr\n",
        "!pip install feature_engine\n",
        "!pip install scikit_posthocs\n",
        "import io\n",
        "import re\n",
        "from feature_engine.imputation import MeanMedianImputer\n",
        "from scipy.stats import kruskal\n",
        "from sklearn.preprocessing import PowerTransformer\n",
        "from sklearn.preprocessing import MinMaxScaler\n",
        "from sklearn.pipeline import Pipeline\n",
        "from scipy.stats import boxcox\n",
        "from pandas import DataFrame\n",
        "from numpy import exp\n",
        "from scipy.stats import chi2\n",
        "import statsmodels.api as sm\n",
        "from statsmodels.formula.api import ols\n",
        "from scipy.stats import chi2_contingency \n",
        "from sklearn import preprocessing\n",
        "from sklearn import decomposition\n",
        "from sklearn.preprocessing import StandardScaler"
      ]
    }
  ]
}