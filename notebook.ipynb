{
  "nbformat": 4,
  "nbformat_minor": 0,
  "metadata": {
    "colab": {
      "name": "calculations.ipynb",
      "provenance": [],
      "authorship_tag": "ABX9TyOWIMOOkSj4JdiO9rmW1rTm",
      "include_colab_link": true
    },
    "kernelspec": {
      "name": "python3",
      "display_name": "Python 3"
    },
    "language_info": {
      "name": "python"
    }
  },
  "cells": [
    {
      "cell_type": "markdown",
      "metadata": {
        "id": "view-in-github",
        "colab_type": "text"
      },
      "source": [
        "<a href=\"https://colab.research.google.com/github/PaulinaJohn/Calculations_in_Python/blob/main/notebook.ipynb\" target=\"_parent\"><img src=\"https://colab.research.google.com/assets/colab-badge.svg\" alt=\"Open In Colab\"/></a>"
      ]
    },
    {
      "cell_type": "code",
      "execution_count": 1,
      "metadata": {
        "colab": {
          "base_uri": "https://localhost:8080/"
        },
        "id": "pLL9hg0x_M8w",
        "outputId": "f1592d1c-ff20-4a19-8bf6-a63c49e39673"
      },
      "outputs": [
        {
          "output_type": "stream",
          "name": "stdout",
          "text": [
            "10.666666666666666\n",
            "<class 'list'>\n",
            "15\n"
          ]
        }
      ],
      "source": [
        "import numpy as np\n",
        "data = [5, 8, 15, 7, 20, 22, 3, 1, 15]\n",
        "\n",
        "print(np.mean(data))\n",
        "print(type(data))\n",
        "\n",
        "from statistics import mode\n",
        "print(mode(data))"
      ]
    },
    {
      "cell_type": "code",
      "source": [
        "np.sort(data)\n",
        "print(np.median(data))\n"
      ],
      "metadata": {
        "colab": {
          "base_uri": "https://localhost:8080/"
        },
        "id": "4GqVxiKACJXe",
        "outputId": "b76605f4-632f-4a36-a069-9847cb515f3a"
      },
      "execution_count": 2,
      "outputs": [
        {
          "output_type": "stream",
          "name": "stdout",
          "text": [
            "8.0\n"
          ]
        }
      ]
    },
    {
      "cell_type": "code",
      "source": [
        "data_2 = [5, 8, 15, 7, 10, 22, 3, 1, 15, 2]\n",
        "print(np.median(data_2))\n",
        "print(type(data))\n"
      ],
      "metadata": {
        "colab": {
          "base_uri": "https://localhost:8080/"
        },
        "id": "GMoMZ_PlC-cp",
        "outputId": "248420ca-567a-46d2-c1e7-f8cc4a2495e1"
      },
      "execution_count": 3,
      "outputs": [
        {
          "output_type": "stream",
          "name": "stdout",
          "text": [
            "7.5\n",
            "<class 'list'>\n"
          ]
        }
      ]
    },
    {
      "cell_type": "code",
      "source": [
        "#Mode\n",
        "from collections import Counter\n",
        "data_3 = [1, 1, 2, 2, 3, 3, 4, 4]\n",
        "print(Counter(data_3).most_common())\n"
      ],
      "metadata": {
        "colab": {
          "base_uri": "https://localhost:8080/"
        },
        "id": "xYYU26RCDpwl",
        "outputId": "b0c2e653-5360-4033-84ee-1fe8cbac6e3c"
      },
      "execution_count": 4,
      "outputs": [
        {
          "output_type": "stream",
          "name": "stdout",
          "text": [
            "[(1, 2), (2, 2), (3, 2), (4, 2)]\n"
          ]
        }
      ]
    },
    {
      "cell_type": "code",
      "source": [
        "data_4 = [1, 2, 3, 3, 3, 4, 5, 6, 6, 6, 7, 8, 9]\n",
        "print(Counter(data_4).most_common())\n"
      ],
      "metadata": {
        "colab": {
          "base_uri": "https://localhost:8080/"
        },
        "id": "QGATT4QTHMnw",
        "outputId": "f0ff0e7d-0679-4798-aa10-ea1455ac1012"
      },
      "execution_count": 5,
      "outputs": [
        {
          "output_type": "stream",
          "name": "stdout",
          "text": [
            "[(3, 3), (6, 3), (1, 1), (2, 1), (4, 1), (5, 1), (7, 1), (8, 1), (9, 1)]\n"
          ]
        }
      ]
    },
    {
      "cell_type": "code",
      "source": [
        "friends_dogs= [1, 1, 2, 3, 8]\n",
        "print(np.mean(friends_dogs))\n",
        "print(np.median(friends_dogs))\n",
        "\n",
        "from statistics import mode\n",
        "print(mode(friends_dogs))"
      ],
      "metadata": {
        "colab": {
          "base_uri": "https://localhost:8080/"
        },
        "id": "DzQlhIsQILnM",
        "outputId": "0085ccaa-3a14-4607-e70c-99e4296b1857"
      },
      "execution_count": 16,
      "outputs": [
        {
          "output_type": "stream",
          "name": "stdout",
          "text": [
            "3.0\n",
            "2.0\n",
            "1\n"
          ]
        }
      ]
    },
    {
      "cell_type": "code",
      "source": [
        "data_5 = [8, 12, 32, 10, 3, 4, 4, 4, 4, 5, 12, 20]\n",
        "print(np.mean(data_5))\n",
        "print(np.median(data_5))\n",
        "print(mode(data_5))"
      ],
      "metadata": {
        "colab": {
          "base_uri": "https://localhost:8080/"
        },
        "id": "UqGJr-qpKrW-",
        "outputId": "9c425d09-ec2e-495c-fafe-3c89e93f1169"
      },
      "execution_count": 7,
      "outputs": [
        {
          "output_type": "stream",
          "name": "stdout",
          "text": [
            "9.833333333333334\n",
            "6.5\n",
            "4\n"
          ]
        }
      ]
    },
    {
      "cell_type": "code",
      "source": [
        "data_6 = [5, 8, 15, 7, 10, 22, 3, 1, 15, 10]\n",
        "print(np.mean(data_6))\n",
        "print(np.median(data_6))\n",
        "print(Counter(data_6))"
      ],
      "metadata": {
        "colab": {
          "base_uri": "https://localhost:8080/"
        },
        "id": "n9oNXBSBL2C8",
        "outputId": "5fcc0e1f-fd0f-40a2-bd58-584946b10780"
      },
      "execution_count": 8,
      "outputs": [
        {
          "output_type": "stream",
          "name": "stdout",
          "text": [
            "9.6\n",
            "9.0\n",
            "Counter({15: 2, 10: 2, 5: 1, 8: 1, 7: 1, 22: 1, 3: 1, 1: 1})\n"
          ]
        }
      ]
    },
    {
      "cell_type": "code",
      "source": [
        "data_7 = [5, 15, 3, 3, 8, 10, 12]\n",
        "print(np.sum(data_7))\n",
        "\n",
        "sum(data_7[1:])\n",
        "print(sum(data_7[2:6])/(7-1))\n"
      ],
      "metadata": {
        "colab": {
          "base_uri": "https://localhost:8080/"
        },
        "id": "_l6O1CugfqUc",
        "outputId": "c157c32b-8839-416c-ba8c-239ecab52dfe"
      },
      "execution_count": 9,
      "outputs": [
        {
          "output_type": "stream",
          "name": "stdout",
          "text": [
            "56\n",
            "4.0\n"
          ]
        }
      ]
    },
    {
      "cell_type": "code",
      "source": [
        "import numpy as np\n",
        "nums = [1, 5, 10, 3, 8, 12, 4, 1, 2, 8]\n",
        "print(np.sort(nums))\n",
        "print(np.median(nums))\n"
      ],
      "metadata": {
        "colab": {
          "base_uri": "https://localhost:8080/"
        },
        "id": "hQJJapcc3VjP",
        "outputId": "c0bca5d6-2923-4586-dda8-0004f489c95e"
      },
      "execution_count": 10,
      "outputs": [
        {
          "output_type": "stream",
          "name": "stdout",
          "text": [
            "[ 1  1  2  3  4  5  8  8 10 12]\n",
            "4.5\n"
          ]
        }
      ]
    },
    {
      "cell_type": "code",
      "source": [
        "num_s = [5, 10, 3, 8, 12, 4, 1, 2, 8]\n",
        "print(np.sort(num_s))\n",
        "print(np.median(num_s))"
      ],
      "metadata": {
        "colab": {
          "base_uri": "https://localhost:8080/"
        },
        "id": "fFJgYNXh6ykF",
        "outputId": "2f225d7b-4ec1-4519-ff39-163361729e90"
      },
      "execution_count": 11,
      "outputs": [
        {
          "output_type": "stream",
          "name": "stdout",
          "text": [
            "[ 1  2  3  4  5  8  8 10 12]\n",
            "5.0\n"
          ]
        }
      ]
    },
    {
      "cell_type": "code",
      "source": [
        "numz = [1, 5, 10, 3, 8, 12, 4]\n",
        "print(np.var(numz))\n",
        "print(np.std(numz))"
      ],
      "metadata": {
        "colab": {
          "base_uri": "https://localhost:8080/"
        },
        "id": "LdSFoYTIBUCV",
        "outputId": "7173ac87-0417-478d-8124-185c08df391e"
      },
      "execution_count": 12,
      "outputs": [
        {
          "output_type": "stream",
          "name": "stdout",
          "text": [
            "13.551020408163266\n",
            "3.6811710647786073\n"
          ]
        }
      ]
    },
    {
      "cell_type": "code",
      "source": [
        "import numpy as np\n",
        "inv_returns = [12, -2,\t10,\t0, 7,\t3]\n",
        "print(np.std(inv_returns))\n",
        "\n",
        "inv_returns_2 = [5, 5, 5, 5, 5, 5]\n",
        "print(np.std(inv_returns_2))"
      ],
      "metadata": {
        "id": "YqlQFYuQVb1w",
        "colab": {
          "base_uri": "https://localhost:8080/"
        },
        "outputId": "fae1ee08-2ec2-49c9-ca05-7da25997893e"
      },
      "execution_count": 13,
      "outputs": [
        {
          "output_type": "stream",
          "name": "stdout",
          "text": [
            "5.0990195135927845\n",
            "0.0\n"
          ]
        }
      ]
    },
    {
      "cell_type": "code",
      "source": [
        "more_data = [15, 4, 3, 8, 15, 22, 7, 9, 2, 3, 3, 12, 6]\n",
        "print(np.sort(more_data))\n",
        "print(np.median(more_data))\n",
        "print(np.mean(more_data))\n",
        "\n",
        "from statistics import mode\n",
        "\n",
        "print(mode(more_data))\n"
      ],
      "metadata": {
        "colab": {
          "base_uri": "https://localhost:8080/"
        },
        "id": "APUqvzz9YDUr",
        "outputId": "383c2c32-7841-4fa4-b2e3-ff3da69a1c74"
      },
      "execution_count": 14,
      "outputs": [
        {
          "output_type": "stream",
          "name": "stdout",
          "text": [
            "[ 2  3  3  3  4  6  7  8  9 12 15 15 22]\n",
            "7.0\n",
            "8.384615384615385\n",
            "3\n"
          ]
        }
      ]
    },
    {
      "cell_type": "code",
      "source": [
        "more_data2 = [15, 4, 3, 8, 15, 22, 7, 9, 2, 3, 3, 12, 6]\n",
        "print(np.min(more_data2))\n",
        "print(np.max(more_data2))\n",
        "print(np.std(more_data2))\n",
        "print(np.var(more_data2))"
      ],
      "metadata": {
        "colab": {
          "base_uri": "https://localhost:8080/"
        },
        "id": "L_y-wSLwaHI8",
        "outputId": "ee988f22-7475-4100-d1a6-961970505d0c"
      },
      "execution_count": 15,
      "outputs": [
        {
          "output_type": "stream",
          "name": "stdout",
          "text": [
            "2\n",
            "22\n",
            "5.824860005428477\n",
            "33.92899408284024\n"
          ]
        }
      ]
    }
  ]
}